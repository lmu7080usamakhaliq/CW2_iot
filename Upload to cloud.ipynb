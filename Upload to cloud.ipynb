{
 "cells": [
  {
   "cell_type": "code",
   "execution_count": null,
   "id": "097650d0",
   "metadata": {
    "scrolled": true
   },
   "outputs": [],
   "source": [
    "!pip install pyserial\n",
    "!pip install azure-iot-hub\n",
    "!pip install azure-iot-device"
   ]
  },
  {
   "cell_type": "code",
   "execution_count": null,
   "id": "2c341c3a",
   "metadata": {
    "scrolled": true
   },
   "outputs": [],
   "source": [
    "\n",
    "import serial\n",
    "import time\n",
    "from azure.iot.device import IoTHubDeviceClient, Message\n",
    "\n",
    "#Enter your connection string below\n",
    "CONNECTION_STRING = \"\"\n",
    "\n",
    "ser = serial.Serial('COM4', 9600) #Depends on your port\n",
    "def send_to_azure_iot_central(data):\n",
    "    try:\n",
    "        client = IoTHubDeviceClient.create_from_connection_string(CONNECTION_STRING)\n",
    "        message = Message(data)\n",
    "        client.send_message(message)\n",
    "        print(\"Message sent to Azure IoT Central: {}\".format(data))\n",
    "    except Exception as ex:\n",
    "        print(\"Error sending message to Azure IoT Central: {}\".format(ex))\n",
    "\n",
    "while True:\n",
    "    if ser.in_waiting > 0:\n",
    "        line = ser.readline().decode('utf-8').rstrip()\n",
    "        send_to_azure_iot_central(line)\n",
    "\n"
   ]
  },
  {
   "cell_type": "code",
   "execution_count": null,
   "id": "d883c60f",
   "metadata": {},
   "outputs": [],
   "source": []
  }
 ],
 "metadata": {
  "kernelspec": {
   "display_name": "Python 3 (ipykernel)",
   "language": "python",
   "name": "python3"
  },
  "language_info": {
   "codemirror_mode": {
    "name": "ipython",
    "version": 3
   },
   "file_extension": ".py",
   "mimetype": "text/x-python",
   "name": "python",
   "nbconvert_exporter": "python",
   "pygments_lexer": "ipython3",
   "version": "3.9.13"
  }
 },
 "nbformat": 4,
 "nbformat_minor": 5
}
